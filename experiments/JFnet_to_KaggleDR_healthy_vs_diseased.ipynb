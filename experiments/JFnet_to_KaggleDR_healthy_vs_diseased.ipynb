{
 "cells": [
  {
   "cell_type": "markdown",
   "metadata": {},
   "source": [
    "# Adapt JFnet to healthy vs. diseased decision on Kaggle DR data\n",
    "\n",
    "### Motivation\n",
    "\n",
    "* optretina: label noise & transfer of JFnet to new dataset with potentially differing statistics\n",
    "* kaggle dr: this should give us a feeling on how good we can get roughly"
   ]
  },
  {
   "cell_type": "code",
   "execution_count": null,
   "metadata": {
    "collapsed": false
   },
   "outputs": [],
   "source": [
    "import theano\n",
    "import theano.tensor as T\n",
    "import lasagne\n",
    "import numpy as np\n",
    "import sys\n",
    "sys.path.append('..')\n",
    "import os\n",
    "\n",
    "from progressbar import ProgressBar\n",
    "import models\n",
    "from datasets import KaggleDR"
   ]
  },
  {
   "cell_type": "markdown",
   "metadata": {},
   "source": [
    "## Image preprocessing"
   ]
  },
  {
   "cell_type": "code",
   "execution_count": null,
   "metadata": {
    "collapsed": false
   },
   "outputs": [],
   "source": [
    "# Training images\n",
    "%run ../convert_JF.py --directory=../data/kaggle_dr/train --convert_directory=../data/kaggle_dr/train_JF_512 --crop_size=512 --extension=jpeg --n_proc=4\n",
    "\n",
    "# Test images\n",
    "# TODO: I don't have the raw test images get the resized ones from vaneeda\n",
    "%run ../convert_JF.py --directory=../data/kaggle_dr/test --convert_directory=../data/kaggle_dr/test_JF_512 --crop_size=512 --extension=jpeg --n_proc=4"
   ]
  },
  {
   "cell_type": "markdown",
   "metadata": {},
   "source": [
    "## Feature extraction\n",
    "\n",
    "from Jeffrey de Fauw's network, originally trained on Kaggle DR competition"
   ]
  },
  {
   "cell_type": "code",
   "execution_count": null,
   "metadata": {
    "collapsed": false
   },
   "outputs": [],
   "source": [
    "def extract_features(source_path=None, source_filenames=None, last_layer=None, outfile=None, batch_size=2):\n",
    "    input_var = T.tensor4('inputs')\n",
    "    weights = '../models/jeffrey_df/2015_07_17_123003_PARAMSDUMP.pkl'\n",
    "    network = models.jeffrey_df(input_var=input_var, width=512, height=512, filename=weights)\n",
    "    output_layer = network[last_layer]\n",
    "\n",
    "    feature_activations = lasagne.layers.get_output(output_layer)\n",
    "    forward_pass = theano.function([input_var], feature_activations)\n",
    "\n",
    "    dataset = KaggleDR(path_data=source_path, filename_targets=source_filenames,\n",
    "                       preprocessing=KaggleDR.jf_trafo)\n",
    "\n",
    "    n_features = np.prod(output_layer.output_shape[1:])\n",
    "    if os.path.exists(outfile):\n",
    "        print 'Feature file already exists, aborting.'\n",
    "        return\n",
    "\n",
    "    fp = np.memmap(outfile, dtype=theano.config.floatX, mode='w+',\n",
    "                   shape=(dataset.n_samples,) + output_layer.output_shape[1:]) # Each sample might still be of dim > 1\n",
    "\n",
    "    n_batches = np.ceil(dataset.n_samples/batch_size)\n",
    "    p = ProgressBar(n_batches)\n",
    "    \n",
    "    for i, batch in enumerate(dataset.iterate_minibatches(np.arange(dataset.n_samples), batch_size)):\n",
    "        p.animate(i)\n",
    "        inputs, _ = batch\n",
    "        fp[i*batch_size:min((i+1)*batch_size, dataset.n_samples)] = forward_pass(inputs)\n",
    "        \n",
    "    del fp # close memory mapped array\n",
    "    \n",
    "    return"
   ]
  },
  {
   "cell_type": "code",
   "execution_count": null,
   "metadata": {
    "collapsed": true
   },
   "outputs": [],
   "source": [
    "last_layer = '18'"
   ]
  },
  {
   "cell_type": "code",
   "execution_count": null,
   "metadata": {
    "collapsed": false,
    "scrolled": true
   },
   "outputs": [],
   "source": [
    "# Training images\n",
    "extract_features(source_path='../data/kaggle_dr/train_JF_512', \n",
    "                 source_filenames='../data/kaggle_dr/trainLabels_bin.csv', \n",
    "                 last_layer=last_layer, \n",
    "                 outfile='../data/kaggle_dr/feat_train_' + last_layer + '.npy',\n",
    "                 batch_size=2)"
   ]
  },
  {
   "cell_type": "code",
   "execution_count": null,
   "metadata": {
    "collapsed": false
   },
   "outputs": [],
   "source": [
    "# Test images\n",
    "extract_features(source_path='../data/kaggle_dr/test_JF_512', \n",
    "                 source_filenames='../data/kaggle_dr/retinopathy_solution_bin.csv', \n",
    "                 last_layer=last_layer, \n",
    "                 outfile='../data/kaggle_dr/feat_test_' + last_layer + '.npy',\n",
    "                 batch_size=2)\n"
   ]
  },
  {
   "cell_type": "markdown",
   "metadata": {},
   "source": [
    "## Train classifier on fixed JFnet features"
   ]
  },
  {
   "cell_type": "code",
   "execution_count": null,
   "metadata": {
    "collapsed": true
   },
   "outputs": [],
   "source": []
  },
  {
   "cell_type": "markdown",
   "metadata": {},
   "source": [
    "## Analyse performance"
   ]
  },
  {
   "cell_type": "code",
   "execution_count": null,
   "metadata": {
    "collapsed": true
   },
   "outputs": [],
   "source": []
  },
  {
   "cell_type": "markdown",
   "metadata": {},
   "source": [
    "## If not satisfying consider to fine-tune JFnet features jointly with classifier\n",
    "### This is computationally more expensive and requires to fuse the two models for which one of them is written in lasagne and the other one in keras!"
   ]
  },
  {
   "cell_type": "code",
   "execution_count": null,
   "metadata": {
    "collapsed": true
   },
   "outputs": [],
   "source": []
  }
 ],
 "metadata": {
  "kernelspec": {
   "display_name": "Python 2",
   "language": "python",
   "name": "python2"
  },
  "language_info": {
   "codemirror_mode": {
    "name": "ipython",
    "version": 2
   },
   "file_extension": ".py",
   "mimetype": "text/x-python",
   "name": "python",
   "nbconvert_exporter": "python",
   "pygments_lexer": "ipython2",
   "version": "2.7.11"
  }
 },
 "nbformat": 4,
 "nbformat_minor": 0
}
