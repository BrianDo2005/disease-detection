{
 "cells": [
  {
   "cell_type": "markdown",
   "metadata": {},
   "source": [
    "# Inspect original images together with labels"
   ]
  },
  {
   "cell_type": "code",
   "execution_count": null,
   "metadata": {
    "collapsed": true
   },
   "outputs": [],
   "source": [
    "import os\n",
    "\n",
    "import numpy as np\n",
    "import pandas as pd\n",
    "import matplotlib.pyplot as plt\n",
    "import matplotlib.gridspec as gridspec\n",
    "\n",
    "import seaborn as sns\n",
    "sns.set_context(\"notebook\", font_scale=1.5, rc={\"lines.linewidth\": 2.5})"
   ]
  },
  {
   "cell_type": "code",
   "execution_count": null,
   "metadata": {
    "collapsed": true
   },
   "outputs": [],
   "source": [
    "images = '../data/data_JF_512'"
   ]
  },
  {
   "cell_type": "markdown",
   "metadata": {},
   "source": [
    "### Load test predictions"
   ]
  },
  {
   "cell_type": "code",
   "execution_count": null,
   "metadata": {
    "collapsed": true
   },
   "outputs": [],
   "source": [
    "df_test = pd.read_csv('../test_predictions.csv')"
   ]
  },
  {
   "cell_type": "markdown",
   "metadata": {},
   "source": [
    "### Inspect images with labels"
   ]
  },
  {
   "cell_type": "code",
   "execution_count": null,
   "metadata": {
    "collapsed": true
   },
   "outputs": [],
   "source": [
    "CLASSES = {0: 'HEALTHY', 1: 'DISEASED'}\n",
    "\n",
    "def plot_images_with_labels(selection):\n",
    "    if hasattr(selection, 'iterrows'):\n",
    "        for index, row in selection.iterrows():\n",
    "            _plot(row)\n",
    "    else:\n",
    "        _plot(selection)\n",
    "\n",
    "def _plot(row):\n",
    "    image = plt.imread(\n",
    "        os.path.join(images, str(row.centre_id), 'linked',\n",
    "        row.filename.replace('.jpg','.jpeg')))\n",
    "\n",
    "    fig = plt.figure()\n",
    "    fig.canvas.set_window_title(' '.join([row.filename, 'centre:', str(row.centre_id)]))\n",
    "    gs = gridspec.GridSpec(2, 1, height_ratios=[3,1], width_ratios=[3,1])\n",
    "\n",
    "    with sns.axes_style(\"white\"):\n",
    "        ax0 = plt.subplot(gs[0])\n",
    "        ax0.imshow(image)\n",
    "        ax0.set_xlabel(' '.join(['Physician:', CLASSES[row.diseased],\n",
    "                                 'Deep Net:', CLASSES[row.pred]]))\n",
    "\n",
    "    with sns.axes_style(\"whitegrid\"):\n",
    "        ax1 = plt.subplot(gs[1])\n",
    "        labels = ('healthy', 'diseased')\n",
    "        y_pos = np.arange(len(labels))\n",
    "        ax1.barh(y_pos, [row.prob_healthy, row.prob_diseased],\n",
    "                      height=0.2,\n",
    "                      align='center')\n",
    "        ax1.set_yticks(y_pos)\n",
    "        ax1.set_yticklabels(labels)\n",
    "        ax1.set_xlabel('$P(c_k|\\mathbf{X})$')\n",
    "        ax1.set_xlim([0, 1])\n",
    "\n",
    "    plt.tight_layout()"
   ]
  },
  {
   "cell_type": "code",
   "execution_count": null,
   "metadata": {
    "collapsed": true
   },
   "outputs": [],
   "source": [
    "TN = df_test[(df_test.diseased == 0) & (df_test.pred == 0)]\n",
    "TP = df_test[(df_test.diseased == 1) & (df_test.pred == 1)]\n",
    "FP = df_test[(df_test.diseased == 0) & (df_test.pred == 1)] # Due to label noise?\n",
    "FN = df_test[(df_test.diseased == 1) & (df_test.pred == 0)] # Due to class imbalance?"
   ]
  },
  {
   "cell_type": "code",
   "execution_count": null,
   "metadata": {
    "collapsed": false
   },
   "outputs": [],
   "source": [
    "selection = TP.iloc[:20]\n",
    "selection"
   ]
  },
  {
   "cell_type": "code",
   "execution_count": null,
   "metadata": {
    "collapsed": true
   },
   "outputs": [],
   "source": [
    "plot_images_with_labels(selection)\n",
    "plt.show()"
   ]
  },
  {
   "cell_type": "code",
   "execution_count": null,
   "metadata": {
    "collapsed": true
   },
   "outputs": [],
   "source": [
    "plt.close('all')"
   ]
  },
  {
   "cell_type": "markdown",
   "metadata": {},
   "source": [
    "## Optionally inspect detailed labels for a given case"
   ]
  },
  {
   "cell_type": "code",
   "execution_count": null,
   "metadata": {
    "collapsed": true
   },
   "outputs": [],
   "source": [
    "list_of_cases = pd.read_excel('/media/cl/My Book/OR/tables/export_tables/list_of_cases.xls')"
   ]
  },
  {
   "cell_type": "code",
   "execution_count": null,
   "metadata": {
    "collapsed": false
   },
   "outputs": [],
   "source": [
    "list_of_cases.loc[list_of_cases.id == 34790, ['valoracion','signos_rpd_od', 'signos_rpd_oi', 'signos_dmae_od', 'signos_dmae_oi', 'otras_alteraciones','comentarios', u'recomendaciones']].values"
   ]
  },
  {
   "cell_type": "code",
   "execution_count": null,
   "metadata": {
    "collapsed": false
   },
   "outputs": [],
   "source": [
    "list_of_cases.columns"
   ]
  }
 ],
 "metadata": {
  "kernelspec": {
   "display_name": "Python 2",
   "language": "python",
   "name": "python2"
  },
  "language_info": {
   "codemirror_mode": {
    "name": "ipython",
    "version": 2
   },
   "file_extension": ".py",
   "mimetype": "text/x-python",
   "name": "python",
   "nbconvert_exporter": "python",
   "pygments_lexer": "ipython2",
   "version": "2.7.11"
  }
 },
 "nbformat": 4,
 "nbformat_minor": 0
}
